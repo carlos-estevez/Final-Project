{
 "cells": [
  {
   "cell_type": "code",
   "execution_count": 1,
   "metadata": {},
   "outputs": [],
   "source": [
    "from music21 import *\n",
    "import glob\n",
    "import pickle\n",
    "import numpy as np\n",
    "from keras.utils import np_utils"
   ]
  },
  {
   "cell_type": "markdown",
   "metadata": {},
   "source": [
    "### Data Preparation"
   ]
  },
  {
   "cell_type": "code",
   "execution_count": 29,
   "metadata": {},
   "outputs": [],
   "source": [
    "def generatenotes():\n",
    "    \"\"\" Extract songs from midi file and save all notes into string format \"\"\"\n",
    "    notes = []\n",
    "\n",
    "    for file in glob.glob(\"midi_songs_train/*.mid\"):\n",
    "        midi = converter.parse(file)\n",
    "        notes_to_parse = None\n",
    "        parts = instrument.partitionByInstrument(midi)\n",
    "        \n",
    "        if parts: \n",
    "            notes_to_parse = parts.parts[0].recurse()\n",
    "        else: \n",
    "            notes_to_parse = midi.flat.notes\n",
    "        \n",
    "        for element in notes_to_parse:\n",
    "            if isinstance(element, note.Note):\n",
    "                notes.append(str(element.pitch))\n",
    "            elif isinstance(element, chord.Chord):\n",
    "                notes.append('.'.join(str(n) for n in element.normalOrder))\n",
    "    \n",
    "    with open('data/notes', 'wb') as filepath:\n",
    "        pickle.dump(notes, filepath)\n",
    "        \n",
    "    return notes"
   ]
  },
  {
   "cell_type": "code",
   "execution_count": 30,
   "metadata": {},
   "outputs": [],
   "source": [
    "def sequence(notes,n_vocab):\n",
    "    \"\"\" Create input and output sequences \"\"\"\n",
    "    \n",
    "    pitchnames = sorted(set(item for item in notes))\n",
    "    note_to_int = dict((note, number) for number, note in enumerate(pitchnames))\n",
    "    \n",
    "    sequence_length = 50\n",
    "    network_input = []\n",
    "    network_output = []\n",
    "\n",
    "    for i in range(0, len(notes) - sequence_length):\n",
    "        sequence_in = notes[i:i + sequence_length]\n",
    "        sequence_out = notes[i + sequence_length]\n",
    "        network_input.append([note_to_int[char] for char in sequence_in])\n",
    "        network_output.append(note_to_int[sequence_out])\n",
    "       \n",
    "    n_patterns = len(network_input)     \n",
    "    \n",
    "    # Reshape the input into a format compatible with LSTM layers and normalize\n",
    "    network_input = np.reshape(network_input, (n_patterns, sequence_length, 1))\n",
    "    n_vocab = len(set(notes))\n",
    "    network_input = network_input / n_vocab\n",
    "    network_output = np_utils.to_categorical(network_output)\n",
    "    \n",
    "    return (network_input,network_output)"
   ]
  },
  {
   "cell_type": "markdown",
   "metadata": {},
   "source": [
    "### Train Model"
   ]
  },
  {
   "cell_type": "code",
   "execution_count": 31,
   "metadata": {},
   "outputs": [],
   "source": [
    "from keras.models import Sequential\n",
    "from keras.layers import Dense\n",
    "from keras.layers import Dropout\n",
    "from keras.layers import LSTM\n",
    "from keras.layers import Activation\n",
    "from keras.callbacks import ModelCheckpoint"
   ]
  },
  {
   "cell_type": "code",
   "execution_count": 32,
   "metadata": {},
   "outputs": [],
   "source": [
    "def create_network(network_input, n_vocab):\n",
    "    \"\"\" Create network structure \"\"\"\n",
    "    model = Sequential()\n",
    "\n",
    "    model.add(LSTM(\n",
    "    500,\n",
    "    return_sequences=True,\n",
    "    time_major=True\n",
    "    ))\n",
    "    model.add(Dropout(0.3))\n",
    "    model.add(LSTM(500, return_sequences=True))\n",
    "    model.add(Dropout(0.3)) \n",
    "    model.add(LSTM(500))\n",
    "    model.add(Dense(250))\n",
    "    model.add(Dropout(0.3))\n",
    "    model.add(Dense(n_vocab))\n",
    "    model.add(Activation(\"softmax\"))\n",
    "\n",
    "    model.compile(loss=\"categorical_crossentropy\", optimizer=\"rmsprop\", metrics=['accuracy'])\n",
    "\n",
    "    return model"
   ]
  },
  {
   "cell_type": "code",
   "execution_count": 33,
   "metadata": {},
   "outputs": [],
   "source": [
    "def train(model, network_input, network_output):\n",
    "    \"\"\" Train the model \"\"\"\n",
    "    \n",
    "    filepath = \"weights.{epoch:02d}-{loss:.4f}.hdf5\"\n",
    "    checkpoint = ModelCheckpoint(\n",
    "        filepath,\n",
    "        monitor=\"loss\",\n",
    "        verbose=0,\n",
    "        save_best_only=True,\n",
    "        mode=\"min\"\n",
    "    )\n",
    "    callbacks_list = [checkpoint]\n",
    "\n",
    "    model.fit(network_input, network_output, epochs=40, batch_size=64, callbacks=callbacks_list)"
   ]
  },
  {
   "cell_type": "code",
   "execution_count": 34,
   "metadata": {},
   "outputs": [],
   "source": [
    "def train_network():\n",
    "    \n",
    "    \"\"\" This function calls all other functions and trains the LSTM\"\"\"\n",
    "    \n",
    "    notes = generatenotes()\n",
    "\n",
    "    # get amount of pitch names\n",
    "    n_vocab = len(set(notes))\n",
    "\n",
    "    network_input, network_output = sequence(notes, n_vocab)\n",
    "\n",
    "    model = create_network(network_input,n_vocab)\n",
    "\n",
    "    train(model, network_input, network_output)"
   ]
  },
  {
   "cell_type": "code",
   "execution_count": 35,
   "metadata": {},
   "outputs": [
    {
     "name": "stdout",
     "output_type": "stream",
     "text": [
      "Epoch 1/40\n",
      "66/66 [==============================] - 170s 3s/step - loss: 4.2822 - accuracy: 0.0511\n",
      "Epoch 2/40\n",
      "66/66 [==============================] - 160s 2s/step - loss: 4.1137 - accuracy: 0.0638\n",
      "Epoch 3/40\n",
      "66/66 [==============================] - 157s 2s/step - loss: 4.0815 - accuracy: 0.0650\n",
      "Epoch 4/40\n",
      "66/66 [==============================] - 157s 2s/step - loss: 4.0772 - accuracy: 0.0695\n",
      "Epoch 5/40\n",
      "66/66 [==============================] - 155s 2s/step - loss: 4.0682 - accuracy: 0.0674\n",
      "Epoch 6/40\n",
      "66/66 [==============================] - 155s 2s/step - loss: 4.3088 - accuracy: 0.0683\n",
      "Epoch 7/40\n",
      "66/66 [==============================] - 156s 2s/step - loss: 4.0635 - accuracy: 0.0724\n",
      "Epoch 8/40\n",
      "66/66 [==============================] - 156s 2s/step - loss: 4.0566 - accuracy: 0.0717\n",
      "Epoch 9/40\n",
      "66/66 [==============================] - 156s 2s/step - loss: 4.0519 - accuracy: 0.0731\n",
      "Epoch 10/40\n",
      "66/66 [==============================] - 156s 2s/step - loss: 4.1597 - accuracy: 0.0705\n",
      "Epoch 11/40\n",
      "66/66 [==============================] - 156s 2s/step - loss: 4.0506 - accuracy: 0.0733\n",
      "Epoch 12/40\n",
      "66/66 [==============================] - 157s 2s/step - loss: 4.0489 - accuracy: 0.0731\n",
      "Epoch 13/40\n",
      "66/66 [==============================] - 156s 2s/step - loss: 4.0491 - accuracy: 0.0731\n",
      "Epoch 14/40\n",
      "66/66 [==============================] - 157s 2s/step - loss: 4.0499 - accuracy: 0.0731\n",
      "Epoch 15/40\n",
      "66/66 [==============================] - 156s 2s/step - loss: 4.0485 - accuracy: 0.0731\n",
      "Epoch 16/40\n",
      "66/66 [==============================] - 157s 2s/step - loss: 4.0483 - accuracy: 0.0731\n",
      "Epoch 17/40\n",
      "66/66 [==============================] - 154s 2s/step - loss: 4.0455 - accuracy: 0.0731\n",
      "Epoch 18/40\n",
      "66/66 [==============================] - 155s 2s/step - loss: 4.0439 - accuracy: 0.0728\n",
      "Epoch 19/40\n",
      "66/66 [==============================] - 156s 2s/step - loss: 4.0473 - accuracy: 0.0731\n",
      "Epoch 20/40\n",
      "66/66 [==============================] - 157s 2s/step - loss: 4.0438 - accuracy: 0.0728\n",
      "Epoch 21/40\n",
      "66/66 [==============================] - 157s 2s/step - loss: 4.0442 - accuracy: 0.0731\n",
      "Epoch 22/40\n",
      "66/66 [==============================] - 157s 2s/step - loss: 4.0435 - accuracy: 0.0731\n",
      "Epoch 23/40\n",
      "66/66 [==============================] - 158s 2s/step - loss: 4.0452 - accuracy: 0.0733\n",
      "Epoch 24/40\n",
      "66/66 [==============================] - 157s 2s/step - loss: 4.0415 - accuracy: 0.0731\n",
      "Epoch 25/40\n",
      "66/66 [==============================] - 158s 2s/step - loss: 4.0746 - accuracy: 0.0717\n",
      "Epoch 26/40\n",
      "66/66 [==============================] - 158s 2s/step - loss: 4.2551 - accuracy: 0.0728\n",
      "Epoch 27/40\n",
      "66/66 [==============================] - 157s 2s/step - loss: 4.0425 - accuracy: 0.0731\n",
      "Epoch 28/40\n",
      "66/66 [==============================] - 157s 2s/step - loss: 4.0441 - accuracy: 0.0731\n",
      "Epoch 29/40\n",
      "66/66 [==============================] - 156s 2s/step - loss: 4.0442 - accuracy: 0.0731\n",
      "Epoch 30/40\n",
      "66/66 [==============================] - 154s 2s/step - loss: 4.0672 - accuracy: 0.0731\n",
      "Epoch 31/40\n",
      "66/66 [==============================] - 156s 2s/step - loss: 4.0434 - accuracy: 0.0731\n",
      "Epoch 32/40\n",
      "66/66 [==============================] - 154s 2s/step - loss: 4.0449 - accuracy: 0.0731\n",
      "Epoch 33/40\n",
      "66/66 [==============================] - 155s 2s/step - loss: 4.0440 - accuracy: 0.0731\n",
      "Epoch 34/40\n",
      "66/66 [==============================] - 156s 2s/step - loss: 4.0403 - accuracy: 0.0731\n",
      "Epoch 35/40\n",
      "66/66 [==============================] - 157s 2s/step - loss: 4.0430 - accuracy: 0.0731\n",
      "Epoch 36/40\n",
      "66/66 [==============================] - 156s 2s/step - loss: 4.0431 - accuracy: 0.0731\n",
      "Epoch 37/40\n",
      "66/66 [==============================] - 156s 2s/step - loss: 4.1478 - accuracy: 0.0731\n",
      "Epoch 38/40\n",
      "66/66 [==============================] - 157s 2s/step - loss: 4.0425 - accuracy: 0.0731\n",
      "Epoch 39/40\n",
      "66/66 [==============================] - 159s 2s/step - loss: 4.0435 - accuracy: 0.0731\n",
      "Epoch 40/40\n",
      "66/66 [==============================] - 158s 2s/step - loss: 4.0426 - accuracy: 0.0731\n"
     ]
    }
   ],
   "source": [
    "train_network()"
   ]
  },
  {
   "cell_type": "raw",
   "metadata": {},
   "source": []
  }
 ],
 "metadata": {
  "kernelspec": {
   "display_name": "Python 3",
   "language": "python",
   "name": "python3"
  },
  "language_info": {
   "codemirror_mode": {
    "name": "ipython",
    "version": 3
   },
   "file_extension": ".py",
   "mimetype": "text/x-python",
   "name": "python",
   "nbconvert_exporter": "python",
   "pygments_lexer": "ipython3",
   "version": "3.7.7"
  }
 },
 "nbformat": 4,
 "nbformat_minor": 4
}
